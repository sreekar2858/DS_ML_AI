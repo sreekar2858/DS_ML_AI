{
 "cells": [
  {
   "cell_type": "code",
   "execution_count": 6,
   "id": "f6b8b99c",
   "metadata": {},
   "outputs": [],
   "source": [
    "# --- utilities \n",
    "import os\n",
    "import shutil\n",
    "import yaml\n",
    "from box import Box\n",
    "# --- data pre-processing\n",
    "import numpy as np\n",
    "import polars as pl\n",
    "# --- dataset retrieve and training \n",
    "import kagglehub as kh\n",
    "import tensorflow_datasets as tfds\n",
    "import torchvision as tv\n",
    "# --- visualization\n",
    "from plotly.subplots import make_subplots\n",
    "import plotly.graph_objects as go\n",
    "import plotly.express as px\n",
    "from bokeh.plotting import figure, show\n",
    "import bokeh.plotting as bp\n",
    "import bokeh.io as bio\n",
    "from bokeh.models import ColumnDataSource\n",
    "from bokeh.layouts import gridplot"
   ]
  }
 ],
 "metadata": {
  "kernelspec": {
   "display_name": "ds-ml-ai (3.11.11)",
   "language": "python",
   "name": "python3"
  },
  "language_info": {
   "codemirror_mode": {
    "name": "ipython",
    "version": 3
   },
   "file_extension": ".py",
   "mimetype": "text/x-python",
   "name": "python",
   "nbconvert_exporter": "python",
   "pygments_lexer": "ipython3",
   "version": "3.11.11"
  }
 },
 "nbformat": 4,
 "nbformat_minor": 5
}
